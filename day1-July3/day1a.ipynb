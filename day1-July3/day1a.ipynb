{
  "nbformat": 4,
  "nbformat_minor": 0,
  "metadata": {
    "colab": {
      "name": "day1a.ipynb",
      "version": "0.3.2",
      "provenance": [],
      "include_colab_link": true
    },
    "kernelspec": {
      "name": "python3",
      "display_name": "Python 3"
    }
  },
  "cells": [
    {
      "cell_type": "markdown",
      "metadata": {
        "id": "view-in-github",
        "colab_type": "text"
      },
      "source": [
        "[View in Colaboratory](https://colab.research.google.com/github/pavankailash/AUAISummer2018/blob/master/day1-July3/day1a.ipynb)"
      ]
    },
    {
      "metadata": {
        "id": "KlHqpxjx8mYX",
        "colab_type": "text"
      },
      "cell_type": "markdown",
      "source": [
        "# AUAI Summer 2018 \n",
        "\n",
        "## Day1 - Assignment 1A\n",
        "\n",
        "*Manual* https://htchutw.gitbooks.io/2018-au-aisp-guide/content/*\n",
        "\n",
        "*Bus*  http://citybus.taichung.gov.tw/cms/en/driving-map*\n",
        "\n",
        "*Course Resource*\n",
        "http://summer.aiplab.net/ - \n",
        "Contains all the necesary tools and installation filess required for the workshop\n",
        "\n",
        "*Markdown Guide* https://guides.github.com/features/mastering-markdown/\n",
        "Markdown is a way to style text on the web. You control the display of the document; formatting words as bold or italic, adding images, and creating lists are just a few of the things we can do with Markdown.\n",
        "\n",
        "\n",
        "\n"
      ]
    },
    {
      "metadata": {
        "id": "oFjpVPEq8kk-",
        "colab_type": "code",
        "colab": {}
      },
      "cell_type": "code",
      "source": [
        ""
      ],
      "execution_count": 0,
      "outputs": []
    }
  ]
}