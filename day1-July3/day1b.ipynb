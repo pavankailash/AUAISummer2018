{
  "nbformat": 4,
  "nbformat_minor": 0,
  "metadata": {
    "colab": {
      "name": "day1b.ipynb",
      "version": "0.3.2",
      "provenance": [],
      "include_colab_link": true
    },
    "kernelspec": {
      "name": "python3",
      "display_name": "Python 3"
    }
  },
  "cells": [
    {
      "cell_type": "markdown",
      "metadata": {
        "id": "view-in-github",
        "colab_type": "text"
      },
      "source": [
        "[View in Colaboratory](https://colab.research.google.com/github/pavankailash/AUAISummer2018/blob/master/day1-July3/day1b.ipynb)"
      ]
    },
    {
      "metadata": {
        "id": "5tFeg5qpJYk6",
        "colab_type": "text"
      },
      "cell_type": "markdown",
      "source": [
        "# AUAI Summer 2018\n",
        "\n",
        "## Day 2 \n",
        "\n",
        "###Introduction to Artificial Intelligence\n",
        "\n",
        "* Intelligence\n",
        "  * Brain to Body mass ratio\n",
        "  * Number of neurons\n",
        "  * Encephalization quotient\n",
        "  \n",
        "* Prolog\n",
        "* Supervised ML\n",
        "   * Regression\n",
        "      * Simple\n",
        "      * Multiple \n",
        "   * Decision Trees\n",
        "\n",
        "* Unsupervised ML\n",
        "  * Clustering\n",
        "  \n",
        "* Deep Learning\n",
        "* Neural Networks\n",
        "  * ANN \n",
        "  * CNN\n",
        "  * RNN\n",
        " \n",
        "* Speech Recognition\n",
        "* Transfer Learning\n",
        "* Alibaba AI Designer\n",
        "* Kaggle\n",
        "* Titanic ML Dataset\n",
        "*  AI For Everyone by CrowdFlower - AI Challenge\n",
        "  * This challenge hosted by San Francisco-based data mining and crowdsourcing company CrowdFlower is a $1 million contest that is specifically aimed to help make a difference in the society– from non-profit ventures to scientific research.\n",
        "\n"
      ]
    }
  ]
}